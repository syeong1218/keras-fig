{
  "nbformat": 4,
  "nbformat_minor": 0,
  "metadata": {
    "colab": {
      "name": "Keras_ch1.ipynb",
      "provenance": [],
      "collapsed_sections": [],
      "include_colab_link": true
    },
    "kernelspec": {
      "name": "python3",
      "display_name": "Python 3"
    },
    "accelerator": "GPU"
  },
  "cells": [
    {
      "cell_type": "markdown",
      "metadata": {
        "id": "view-in-github",
        "colab_type": "text"
      },
      "source": [
        "<a href=\"https://colab.research.google.com/github/syeong1218/keras-fig/blob/master/Keras_ch1.ipynb\" target=\"_parent\"><img src=\"https://colab.research.google.com/assets/colab-badge.svg\" alt=\"Open In Colab\"/></a>"
      ]
    },
    {
      "cell_type": "markdown",
      "metadata": {
        "id": "jQ_2oOvUsOkh",
        "colab_type": "text"
      },
      "source": [
        "# **1장. 케라스를 활용한 고급 딥러닝 소개**\n",
        "\n",
        "- 학습 목표\n",
        "  1. 고급 딥러닝 모델을 사용하는데 케라스가 탁월한 도구인 이유를 알아본다.\n",
        "  2. 이 책에서 사용할 최고급 딥러닝 모델의 기본 구성 요소인 MLP, CNN, RNN을 소개한다.\n",
        "  3. 예제를 통해 케라스와 텐서플로를 사용해 MLP, CNN, RNN을 구현하는 방법을 보여준다.\n",
        "  4. 최적화, 정규화, 손실 함수를 포함해 딥러닝의 주요 개념을 소개한다.\n"
      ]
    },
    {
      "cell_type": "markdown",
      "metadata": {
        "id": "dnMo5rW4tIjf",
        "colab_type": "text"
      },
      "source": [
        "### **왜 케라스가 딥러닝 라이브러리로 완벽한가?**\n",
        "\n",
        ">케라스\n",
        "\n",
        "- 모델을 효율적으로 구축하고 훈련시킬 수 있게 하는 딥러닝 라이브러리다.<br> 계층이 레고 블록처럼 서로 연결돼 있어 모델을 깔끔하고 이해하기 쉽게 구현할 수 있다. 모델을 훈련시키는 일은 적은 코드로 구현할 수 있는데, 케라스를 사용함으로써 코드 구현 시간을 절약하고 더 나은 딥러닝 알고리즘을 만드는데 생산성을 높일 수 있다.\n",
        "- 딥러닝 모델을 빠르게 구현하기에 이상적인 도구이다.<br>케라스는 특수한 요구사항을 만족시키기 위해 변경 가능한 API와 Model, Layer 클래스를 사용해 복잡한 모델도 구현할 수 있다. 함수형 API는 그래프와 유사한 모델 작성, 계층 재활용, 파이썬 함수처럼 작동하는 모델을 지원한다. Model, Layer 클래스는 보편적이지 않거나 실험적인 딥러닝 모델과 계층을 구현하기 위한 프레임워크를 제공한다.\n",
        "\n",
        "  *API는 응용 프로그램 프로그래밍 인터페이스로, 프로그램과 또 다른 프로그램을 연결해주는 일종의 다리역할을 한다.*\n"
      ]
    },
    {
      "cell_type": "markdown",
      "metadata": {
        "id": "jIElAIk4wKCi",
        "colab_type": "text"
      },
      "source": [
        "### **핵심 딥러닝 모델 구현하기 - MLP, CNN, RNN**\n",
        "\n",
        ">MLP(다층 퍼셉트론)\n",
        "\n",
        "- 완전 연결 신경망이다. <br>단순한 로지스틱 회귀와 선형 회귀 문제에 사용된다.<br> 하지만 순차적인 다차원 데이터 패턴을 처리하기에 적합하지 않다. 순차적 데이터의 패턴을 기억할려면 엄청난 노력을 들여야하고, 다차원 데이터를 처리하려면 상당수의 매개변수를 필요로 한다.\n",
        "\n",
        ">RNN(순환 신경망)\n",
        "\n",
        "- 예측하는데 필요한 데이터 이력에서 종속성을 발견할 수 있도록 내부적으로 설계되어 있다. <br>순차적 데이터 입력의 경우에 사용된다.\n",
        "\n",
        ">CNN(합성곱 신경망)\n",
        "\n",
        "- 이미지와 동영상 같은 다차원 데이터의 경우에 사용된다. <br> 경우에 따라 순차적 입력 데이터를 받는 신경망에서도 사용된다.\n",
        "\n",
        "전체 심층 신경망을 완성하기 위해서는 **MLP, RNN, CNN, 목적함수나 손실함수, 최적화, 정규화** 방법을 정의해야 한다. <br> 모델을 훈련시킬 때는 손실 함숫값을 줄이는 것을 목표로 하는데, 이 값을 최소화하기 위해서는 최적화 방법을 사용한다. 그리고 정규화는 훈련된 모델을 새로운 데이터에서 활용할 수 있도록 일반화한다."
      ]
    },
    {
      "cell_type": "markdown",
      "metadata": {
        "id": "rBjZop7Cy_M0",
        "colab_type": "text"
      },
      "source": [
        "### **다층 퍼셉트론(MLP)**\n",
        "\n",
        ">MNIST 데이터세트\n",
        "\n",
        "- 0부터 9까지 손으로 쓴 숫자를 모아둔 데이터세트이다.<br> 각 숫자에 해당하는 카테고리 혹은 레이블(=타깃=실제 값)로 분류된 이미지로 6만 개 훈련 집합과 1만 개 테스트 집합으로 구성된다.\n",
        "\n",
        "아래 코드는 MNIST 데이터세트를 로딩하고 임의로 25개의 샘플 이미지를 표시하고 훈련/테스트 데이터세트의 레이블 개수를 세는 방법이다."
      ]
    },
    {
      "cell_type": "code",
      "metadata": {
        "id": "xa-WXd680Mul",
        "colab_type": "code",
        "outputId": "99511892-153c-45c7-aec2-d8269e56aa8b",
        "colab": {
          "base_uri": "https://localhost:8080/",
          "height": 111
        }
      },
      "source": [
        "try:\n",
        "\n",
        "    %tensorflow_version 2.x  # %tensorflow_version only exists in Colab\n",
        "\n",
        "except Exception:\n",
        "\n",
        "    pass"
      ],
      "execution_count": 0,
      "outputs": [
        {
          "output_type": "stream",
          "text": [
            "`%tensorflow_version` only switches the major version: `1.x` or `2.x`.\n",
            "You set: `2.x  # %tensorflow_version only exists in Colab`. This will be interpreted as: `2.x`.\n",
            "\n",
            "\n",
            "TensorFlow is already loaded. Please restart the runtime to change versions.\n"
          ],
          "name": "stdout"
        }
      ]
    },
    {
      "cell_type": "code",
      "metadata": {
        "id": "-2ycL4XJsFPE",
        "colab_type": "code",
        "outputId": "56cb8fdc-2e04-40b8-ef66-3a45b7667316",
        "colab": {
          "base_uri": "https://localhost:8080/",
          "height": 397
        }
      },
      "source": [
        "from __future__ import absolute_import\n",
        "from __future__ import division\n",
        "from __future__ import print_function\n",
        "\n",
        "import numpy as np\n",
        "from keras.datasets import mnist\n",
        "import matplotlib.pyplot as plt\n",
        "\n",
        "# 데이터세트 로딩\n",
        "(x_train, y_train), (x_test, y_test) = mnist.load_data() #mnist.load_data() : 7만개 이미지를 모두 로딩해서 각각의 레이블을 달아 배열에 저장할 필요가 없다.\n",
        "\n",
        "# 고유한 훈련 레이블 개수 세기\n",
        "unique, counts = np.unique(y_train, return_counts=True) #unique : 중복되지 않은 값을 출력한다.  # return_counts=True : 데이터 갯수도 출력하게 한다.\n",
        "print(\"Train labels: \", dict(zip(unique, counts)))\n",
        "\n",
        "# 고유한 테스트 레이블 개수 세기\n",
        "unique, counts = np.unique(y_test, return_counts=True)\n",
        "print(\"Test labels: \", dict(zip(unique, counts)))\n",
        "\n",
        "# 훈련 데이터세트에서 25개의 MNIST 숫자 샘플 추출하기\n",
        "indexes = np.random.randint(0, x_train.shape[0], size=25)\n",
        "images = x_train[indexes]\n",
        "labels = y_train[indexes]\n",
        "\n",
        "# 25개의 MNIST 숫자 그리기\n",
        "plt.figure(figsize=(5,5))\n",
        "for i in range(len(indexes)):\n",
        "    plt.subplot(5, 5, i + 1)\n",
        "    image = images[i]\n",
        "    plt.imshow(image, cmap='gray')\n",
        "    plt.axis('off')\n",
        "\n",
        "plt.savefig(\"mnist-samples.png\")\n",
        "plt.show()\n",
        "plt.close('all')"
      ],
      "execution_count": 0,
      "outputs": [
        {
          "output_type": "stream",
          "text": [
            "Using TensorFlow backend.\n"
          ],
          "name": "stderr"
        },
        {
          "output_type": "stream",
          "text": [
            "Downloading data from https://s3.amazonaws.com/img-datasets/mnist.npz\n",
            "11493376/11490434 [==============================] - 0s 0us/step\n",
            "Train labels:  {0: 5923, 1: 6742, 2: 5958, 3: 6131, 4: 5842, 5: 5421, 6: 5918, 7: 6265, 8: 5851, 9: 5949}\n",
            "Test labels:  {0: 980, 1: 1135, 2: 1032, 3: 1010, 4: 982, 5: 892, 6: 958, 7: 1028, 8: 974, 9: 1009}\n"
          ],
          "name": "stdout"
        },
        {
          "output_type": "display_data",
          "data": {
            "image/png": "[encoded data removed]",
            "text/plain": [
              "<Figure size 360x360 with 25 Axes>"
            ]
          },
          "metadata": {
            "tags": []
          }
        }
      ]
    },
    {
      "cell_type": "markdown",
      "metadata": {
        "id": "RpARLPul3HFX",
        "colab_type": "text"
      },
      "source": [
        "MNIST 데이터는 2차원 텐서지만 입력 계층의 형식에 따라 형상을 바꿔야 한다.\n",
        "\n",
        "![대체 텍스트](https://github.com/syeong1218/keras-fig/blob/master/1.3.2.PNG?raw=true)"
      ]
    },
    {
      "cell_type": "markdown",
      "metadata": {
        "id": "fVflzBUweGpB",
        "colab_type": "text"
      },
      "source": [
        "> MNIST 숫자 분류 모델\n",
        "\n",
        "- MLP 모델\n",
        "![대체 텍스트](https://github.com/syeong1218/keras-fig/blob/master/1.3.3.PNG?raw=true)\n",
        "\n",
        "- 퍼셉트론 단위로 표시한 MLP 모델\n",
        "  \n",
        "  가중치 $w_i$와 n번째 유닛에 대한 편향 값 $b_n$의 함수로 표현\n",
        "![대체 텍스트](https://github.com/syeong1218/keras-fig/blob/master/1.3.4.PNG?raw=true)\n",
        "\n"
      ]
    },
    {
      "cell_type": "markdown",
      "metadata": {
        "id": "-YPWfX0fi0l9",
        "colab_type": "text"
      },
      "source": [
        "#### **MLP모델을 이용해 케라스에서 MNIST 숫자 분류 모델 구현 코드**"
      ]
    },
    {
      "cell_type": "code",
      "metadata": {
        "id": "w-kIkOqXz2f8",
        "colab_type": "code",
        "colab": {}
      },
      "source": [
        "import numpy as np\n",
        "from tensorflow.keras.models import Sequential\n",
        "from tensorflow.keras.layers import Dense, Activation, Dropout\n",
        "from tensorflow.keras.utils import to_categorical, plot_model\n",
        "from tensorflow.keras.datasets import mnist\n",
        "\n",
        "# MNIST 데이터세트 로딩\n",
        "(x_train, y_train), (x_test, y_test) = mnist.load_data()\n",
        "\n",
        "# 레이블 개수 계산\n",
        "num_labels = len(np.unique(y_train))\n",
        "\n",
        "# 원-핫 벡터로 변환\n",
        "# 원-핫 벡터 : 해당 숫자 클래스의 인텍스를 제외하고는 모두 0으로 채워진 10차원 벡터\n",
        "y_train = to_categorical(y_train)\n",
        "y_test = to_categorical(y_test)\n",
        "\n",
        "# 이미지 차원(정사각형으로 가정)\n",
        "image_size = x_train.shape[1]\n",
        "input_size = image_size * image_size\n",
        "\n",
        "# 크기조정, 정규화\n",
        "x_train = np.reshape(x_train, [-1, input_size])\n",
        "x_train = x_train.astype('float32') / 255    \n",
        "x_test = np.reshape(x_test, [-1, input_size])\n",
        "x_test = x_test.astype('float32') / 255\n",
        "\n",
        "# 신경망 매개변수\n",
        "batch_size = 128\n",
        "hidden_units = 256\n",
        "dropout = 0.45\n",
        "\n",
        "#모델 : 3개의 계층으로 이루어진 MLP\n",
        "model = Sequential()\n",
        "model.add(Dense(hidden_units, input_dim=input_size))\n",
        "model.add(Activation('relu'))\n",
        "model.add(Dropout(dropout))\n",
        "model.add(Dense(hidden_units))\n",
        "model.add(Activation('relu'))\n",
        "model.add(Dropout(dropout))\n",
        "model.add(Dense(num_labels))\n",
        "\n",
        "# 원-핫 벡터 출력\n",
        "model.add(Activation('softmax'))\n",
        "\n",
        "model.summary()\n",
        "plot_model(model, to_file='mlp-mnist.png', show_shapes=True)\n",
        "\n",
        "# 원-핫 벡터의 손실 함수\n",
        "# adam 최적화 사용\n",
        "# 분류 작업의 지표로 정확도를 사용하는 것이 적합함\n",
        "model.compile(loss='categorical_crossentropy',\n",
        "              optimizer='adam',\n",
        "              metrics=['accuracy'])\n",
        "\n",
        "# 신경망 훈련\n",
        "model.fit(x_train, y_train, epochs=20, batch_size=batch_size)\n",
        "\n",
        "# 일반화가 제대로 됐는지 확인하기 위해 테스트 데이터세트로 모델 검증\n",
        "loss, acc = model.evaluate(x_test, y_test, batch_size=batch_size)\n",
        "print(\"\\nTest accuracy: %.1f%%\" % (100.0 * acc))"
      ],
      "execution_count": 0,
      "outputs": []
    },
    {
      "cell_type": "markdown",
      "metadata": {
        "id": "GjlIIg_g7y55",
        "colab_type": "text"
      },
      "source": [
        "코드를 하나하나 분석해보면"
      ]
    },
    {
      "cell_type": "code",
      "metadata": {
        "id": "JOEQH-D9izbU",
        "colab_type": "code",
        "colab": {}
      },
      "source": [
        "# 레이블 개수 계산\n",
        "num_labels = len(np.unique(y_train))"
      ],
      "execution_count": 0,
      "outputs": []
    },
    {
      "cell_type": "code",
      "metadata": {
        "id": "ayd8EnSzjIDt",
        "colab_type": "code",
        "colab": {}
      },
      "source": [
        "# 원-핫 벡터로 변환\n",
        "y_train = to_categorical(y_train)\n",
        "y_test = to_categorical(y_test)"
      ],
      "execution_count": 0,
      "outputs": []
    },
    {
      "cell_type": "markdown",
      "metadata": {
        "id": "lVhuBvZjjHAe",
        "colab_type": "text"
      },
      "source": [
        "원-핫 벡터 : 해당 숫자 클래스의 인텍스를 제외하고는 모두 0으로 채워진 10차원 벡터\n",
        "\n",
        "ex) 레이블이 2라면 원-핫 벡터는 [0,0,1,0,0,0,0,0,0,0]이다."
      ]
    },
    {
      "cell_type": "code",
      "metadata": {
        "id": "3-N5-HA_jhgu",
        "colab_type": "code",
        "colab": {}
      },
      "source": [
        "# 이미지 차원(정사각형으로 가정)\n",
        "image_size = x_train.shape[1]\n",
        "input_size = image_size * image_size\n",
        "\n",
        "# 크기조정, 정규화\n",
        "x_train = np.reshape(x_train, [-1, input_size])\n",
        "x_train = x_train.astype('float32') / 255\n",
        "x_test = np.reshape(x_test, [-1, input_size])\n",
        "x_test = x_test.astype('float32') / 255"
      ],
      "execution_count": 0,
      "outputs": []
    },
    {
      "cell_type": "markdown",
      "metadata": {
        "id": "hmHNtdu8jkqo",
        "colab_type": "text"
      },
      "source": [
        "첫 번째 Dense 계층의 input_size를 계산하고 각 픽셀값을 0 ~ 255 범위에서 0.0~1.0 범위의 값으로 변경하기 위해 255로 나눈다. 원본 픽셀값을 사용하면 편향 값이 커져서 모델 훈련이 어려워진다.<br> 입력 데이터를 정규화하면 신경망의 출력도 정규화된다. 훈련이 끝나면 출력 텐서에 앞서 나누었던 255를 다시 곱히야 원래 픽셀로 되돌릴 수 있다."
      ]
    },
    {
      "cell_type": "code",
      "metadata": {
        "id": "V0T0xBFwl6AJ",
        "colab_type": "code",
        "colab": {}
      },
      "source": [
        "#모델 : 3개의 계층으로 이루어진 MLP\n",
        "model = Sequential()\n",
        "model.add(Dense(hidden_units, input_dim=input_size))\n",
        "model.add(Activation('relu'))\n",
        "model.add(Dropout(dropout))\n",
        "model.add(Dense(hidden_units))\n",
        "model.add(Activation('relu'))\n",
        "model.add(Dropout(dropout))\n",
        "model.add(Dense(num_labels))\n",
        "\n",
        "# 원-핫 벡터 출력\n",
        "model.add(Activation('softmax'))"
      ],
      "execution_count": 0,
      "outputs": []
    },
    {
      "cell_type": "markdown",
      "metadata": {
        "id": "QxhA6CHRl67W",
        "colab_type": "text"
      },
      "source": [
        "케라스에서 MLP 계층을 Dense라고 한다. <br> 128개 유닛을 사용하면 신경망이 빠르게 수렴하지만 정확도가 낮고, 521개나 1024개 유닛은 정확도가 크게 증가하지 않아 256 유닛을 사용한다. <br> 유닛의 개수는 초매개변수로 신경망의 용량을 제어한다. 용량은 신경망이 근사할 수 있는 함수의 복잡도를 나타내는 지표로 초매개변수가 증가하면 용량도 함께 증가한다.\n",
        "\n",
        "Dense 계층은 선형 작업이다. <br> 하지만 MNIST 숫자 분류는 비선형으로 Dense 계층 사이에 relu 활성화를 삽입하여 모델링한다. \n",
        "- **relu**<br>간단한 비선형 함수이다. 양수 입력값은 변경 없이 통과시키고 나머지는 0으로 고정시킨다. <br> 계산이 간단하기 때문에 효율적이다.\n",
        "$$relu(x)=max(0,x)$$\n",
        "![대체 텍스트](https://github.com/syeong1218/keras-fig/blob/master/1.3.5.PNG?raw=true)\n",
        "\n",
        "> 정규화\n",
        "\n",
        "- **드롭아웃(dropout)**<br>일반적으로 사용하는 정규화 계층이다.\n",
        "<br> 데이터의 용량을 줄이기 위하여 다음과 같이 정규화한다.<br> dropout이 정해지면 Dropout 계층이 다음 계층으로 연결되는 유닛 중 일부를 제거한다. 여기서 dropout이 0.45니까 첫 번째 계층에서 (1-0.45)$\\times $256=140개의 유닛만 두 번째 계층으로 연결된다.<br> Dropout 계층은 일부 유닛이 없어져도 신경망이 올바르게 예측할 수 있게 훈련시키기 때문에 새로운 입력 데이터에도 적용할 수 있도록 만들어준다. <br> 모델을 훈련시킬 때만 사용해야 한다.\n",
        "\n",
        "> 출력 활성화 함수\n",
        "\n",
        "- **softmax 활성화 함수** <br> 예측을 정규화해서 출력을 확률로 넣는다. 각 예측값은 인덱스가 해당 입력 이미지의 정확한 레이블일 확률이다. 따라서 전체 출력의 확률을 모두 더하면 1.0이다.\n",
        "$$softmax(x_i)=\\frac{e^{x_i}}{\\sum_{j=0}^{N-1}e^{x_j}}$$\n",
        "\n",
        "- **limear**<br> 선형 활성화는 항등함수로 입력값이 그대로 출력값으로 나온다.\n",
        "\n",
        "- **sigmoid** <br> 예측 텐서의 요소가 독립적으로 0.0 ~ 1.0 사이의 값으로 매핑될 때 사용된다. softmax와 달리 모든 요소의 합이 1.0이 아니다. 감성 예측이나 이미지생성의 마지막 계층으로 사용된다.\n",
        "\n",
        "- **tanh** <br> 입력값을 -1.0 ~ 1.0 사이의 값으로 매핑한다. 순환 신경망(RNN)의 내부 계층에 주로 사용되지만, 출력 계층 활성화로 사용되기도 한다. 이 함수를 출력 활성화에 사용하면 사용된 데이터의 척도를 변경해야 한다. $x=\\frac{x}{255}가 아니라 $$x=\\frac{x-127.5}{127.5}$를 사용해 픽셀값을 [-1.0 1.0]으로 변경한다. \n",
        "\n",
        "![대체 텍스트](https://github.com/syeong1218/keras-fig/blob/master/1.3.6.PNG?raw=true)\n",
        "\n",
        "\n",
        "\n"
      ]
    },
    {
      "cell_type": "code",
      "metadata": {
        "id": "cUp17TW9vIr0",
        "colab_type": "code",
        "outputId": "1bd97ac4-a513-410b-a13d-232a6e6809cf",
        "colab": {
          "base_uri": "https://localhost:8080/",
          "height": 801
        }
      },
      "source": [
        "# 원-핫 벡터의 손실 함수\n",
        "# adam 최적화 사용\n",
        "# 분류 작업의 지표로 정확도를 사용하는 것이 적합함\n",
        "model.compile(loss='categorical_crossentropy',\n",
        "              optimizer='adam',\n",
        "              metrics=['accuracy'])\n",
        "\n",
        "# 신경망 훈련\n",
        "model.fit(x_train, y_train, epochs=20, batch_size=batch_size)"
      ],
      "execution_count": 0,
      "outputs": [
        {
          "output_type": "stream",
          "text": [
            "Train on 60000 samples\n",
            "Epoch 1/20\n",
            "60000/60000 [==============================] - 2s 29us/sample - loss: 0.0521 - accuracy: 0.9833\n",
            "Epoch 2/20\n",
            "60000/60000 [==============================] - 1s 24us/sample - loss: 0.0528 - accuracy: 0.9830\n",
            "Epoch 3/20\n",
            "60000/60000 [==============================] - 2s 25us/sample - loss: 0.0498 - accuracy: 0.9837\n",
            "Epoch 4/20\n",
            "60000/60000 [==============================] - 1s 25us/sample - loss: 0.0489 - accuracy: 0.9843\n",
            "Epoch 5/20\n",
            "60000/60000 [==============================] - 1s 25us/sample - loss: 0.0474 - accuracy: 0.9842\n",
            "Epoch 6/20\n",
            "60000/60000 [==============================] - 2s 25us/sample - loss: 0.0463 - accuracy: 0.9855\n",
            "Epoch 7/20\n",
            "60000/60000 [==============================] - 2s 25us/sample - loss: 0.0453 - accuracy: 0.9850\n",
            "Epoch 8/20\n",
            "60000/60000 [==============================] - 2s 25us/sample - loss: 0.0465 - accuracy: 0.9851\n",
            "Epoch 9/20\n",
            "60000/60000 [==============================] - 2s 25us/sample - loss: 0.0445 - accuracy: 0.9851\n",
            "Epoch 10/20\n",
            "60000/60000 [==============================] - 2s 25us/sample - loss: 0.0434 - accuracy: 0.9862\n",
            "Epoch 11/20\n",
            "60000/60000 [==============================] - 2s 25us/sample - loss: 0.0461 - accuracy: 0.9846\n",
            "Epoch 12/20\n",
            "60000/60000 [==============================] - 2s 25us/sample - loss: 0.0408 - accuracy: 0.9870\n",
            "Epoch 13/20\n",
            "60000/60000 [==============================] - 2s 25us/sample - loss: 0.0435 - accuracy: 0.9856\n",
            "Epoch 14/20\n",
            "60000/60000 [==============================] - 1s 25us/sample - loss: 0.0393 - accuracy: 0.9875\n",
            "Epoch 15/20\n",
            "60000/60000 [==============================] - 1s 25us/sample - loss: 0.0421 - accuracy: 0.9870\n",
            "Epoch 16/20\n",
            "60000/60000 [==============================] - 1s 25us/sample - loss: 0.0393 - accuracy: 0.9867\n",
            "Epoch 17/20\n",
            "60000/60000 [==============================] - 1s 25us/sample - loss: 0.0380 - accuracy: 0.9876\n",
            "Epoch 18/20\n",
            "60000/60000 [==============================] - 1s 24us/sample - loss: 0.0375 - accuracy: 0.9877\n",
            "Epoch 19/20\n",
            "60000/60000 [==============================] - 1s 24us/sample - loss: 0.0360 - accuracy: 0.9883\n",
            "Epoch 20/20\n",
            "60000/60000 [==============================] - 2s 25us/sample - loss: 0.0382 - accuracy: 0.9877\n"
          ],
          "name": "stdout"
        },
        {
          "output_type": "execute_result",
          "data": {
            "text/plain": [
              "<tensorflow.python.keras.callbacks.History at 0x7f60f0bb6c18>"
            ]
          },
          "metadata": {
            "tags": []
          },
          "execution_count": 10
        }
      ]
    },
    {
      "cell_type": "markdown",
      "metadata": {
        "id": "TQbo0ISIvBiz",
        "colab_type": "text"
      },
      "source": [
        "> 손실 함수\n",
        "\n",
        "예측된 텐서가 실제 값을 가진 원-핫 벡터와 얼마나 떨어져 있는지를 손실이라 한다. <br> 여기서 사용한 categorical_crossentropy는 목푯값과 예측값의 로그를 곱한 값의 합계에 음의 부호를 취한 값이다. <br> 손실 함수를 임의로 선택해서는 안되며 모델을 학습시킬 때 기준이 되어야 한다. \n",
        "```\n",
        "softmax 활성화 계층 다음에는 categorical_crossentropy 나 mean_squared_error\n",
        "sigmoid 활성화 계층 다음에는 binary_crossentropy\n",
        "tanh 출력에는 mean_squared_error\n",
        "```\n",
        "를 적용하는 것이 좋다.\n",
        "\n",
        "> 최적화\n",
        "\n",
        "최적화는 손실 함수를 최소화하는 것을 목표로 한다. 케라스에서 기본으로 사용하는 지표는 손실(loss)이고, 훈련, 검증 ,테스트하는 동안에는 정확도(accuracy)를 함께 사용한다. 정확도는 실제 값을 기준으로 예측이 차지하는 백분율 또는 분수이다.\n",
        "\n",
        "- 경사 하강법(GD) : 함수를 따라 내려가면서 최솟값을 구한다.\n",
        "  ![대체 텍스트](https://github.com/syeong1218/keras-fig/blob/master/1.3.7.PNG?raw=true)\n",
        "\n",
        "  학습속도가 너무 크면 최솟값 중심으로 앞뒤로 움직이기 때문에 최솟값을 발견할 수 없고, 너무 작으면 최솟값을 구할 때까지 많이 반복해야 한다. 최솟값이 여러 개인 경우 최솟값이 극솟값이 될 수 있다.\n",
        "  ![대체 텍스트](https://github.com/syeong1218/keras-fig/blob/master/1.3.8.PNG?raw=true)\n",
        "\n",
        "- 확률적 경사 하강법(SGD) : 가장 기본적인 최적화 기법이다. 샘플에서 미니 배치를 선택해 경사의 근삿값을 계산한다. 미니배치 크기는 GPU의 최적화를 위해 2의 제곱 값으로 잡는 것이 좋다.<BR> 도함수를 전파하고 그에 맞춰 경사를 계산하기 위해 역전파를 이용한다.\n",
        "- 적응 모덴트 추정(Adam) : 적응형 학습 속도를 사용하는 SGD의 변형이다. \n",
        "<br>momentuM(SGD방식에서 관성을 이용해 기울기가 0인 지점으로 빠르게 보내는 방식)과 AdaGraD(학습률을 초기에 크게 잡고 점점 줄여나가는 방식)를 합친 방식이다.여기서는 테스트 정확도가 가장 높아 Adam을 사용한다.\n",
        "- 제곱 평균 제곱근 편차 전파(RMSprop) : 적응형 학습 속도를 사용하는 SGD의 변형이다.\n",
        "\n",
        "최적화는 미분을 기반으로 하기 때문에 손실함수의 기준은 미분 가능해야 한다는 것이다.\n",
        "\n",
        "fit()함수를 사용해 모델을 훈련시킨다. x, y 데이터와 에폭 수, 배치 크기만 정하면 fit()함수가 작업을 모두 수행한다. <br>1 에폭은 훈련시킬 때 사용한 훈련 데이터의 샘플이 전체 훈련 데이터가 되는 것을 뜻한다. batch_size는 각 훈련 단계에서 처리할 입력 데이터 개수를 뜻하는 샘플 크기이다. "
      ]
    },
    {
      "cell_type": "code",
      "metadata": {
        "id": "Lv-1eT40638T",
        "colab_type": "code",
        "outputId": "41b1d5bb-1398-4f2e-bdf7-965975d54d5b",
        "colab": {
          "base_uri": "https://localhost:8080/",
          "height": 73
        }
      },
      "source": [
        "# 일반화가 제대로 됐는지 확인하기 위해 테스트 데이터세트로 모델 검증\n",
        "loss, acc = model.evaluate(x_test, y_test, batch_size=batch_size)\n",
        "print(\"\\nTest accuracy: %.1f%%\" % (100.0 * acc))"
      ],
      "execution_count": 0,
      "outputs": [
        {
          "output_type": "stream",
          "text": [
            "10000/10000 [==============================] - 0s 26us/sample - loss: 0.0702 - accuracy: 0.9834\n",
            "\n",
            "Test accuracy: 98.3%\n"
          ],
          "name": "stdout"
        }
      ]
    },
    {
      "cell_type": "code",
      "metadata": {
        "id": "BdDJA3xs479f",
        "colab_type": "code",
        "outputId": "d7db583f-d80f-482d-f993-9781d4a35c71",
        "colab": {
          "base_uri": "https://localhost:8080/",
          "height": 465
        }
      },
      "source": [
        "model.summary()"
      ],
      "execution_count": 0,
      "outputs": [
        {
          "output_type": "stream",
          "text": [
            "Model: \"sequential\"\n",
            "_________________________________________________________________\n",
            "Layer (type)                 Output Shape              Param #   \n",
            "=================================================================\n",
            "dense (Dense)                (None, 256)               200960    \n",
            "_________________________________________________________________\n",
            "activation (Activation)      (None, 256)               0         \n",
            "_________________________________________________________________\n",
            "dropout (Dropout)            (None, 256)               0         \n",
            "_________________________________________________________________\n",
            "dense_1 (Dense)              (None, 256)               65792     \n",
            "_________________________________________________________________\n",
            "activation_1 (Activation)    (None, 256)               0         \n",
            "_________________________________________________________________\n",
            "dropout_1 (Dropout)          (None, 256)               0         \n",
            "_________________________________________________________________\n",
            "dense_2 (Dense)              (None, 10)                2570      \n",
            "_________________________________________________________________\n",
            "activation_2 (Activation)    (None, 10)                0         \n",
            "=================================================================\n",
            "Total params: 269,322\n",
            "Trainable params: 269,322\n",
            "Non-trainable params: 0\n",
            "_________________________________________________________________\n"
          ],
          "name": "stdout"
        }
      ]
    },
    {
      "cell_type": "markdown",
      "metadata": {
        "id": "OidJkSw8tLLY",
        "colab_type": "text"
      },
      "source": [
        "일반적으로 첫번째와 두번째 dense층은 본질적으로 256개의 유닛으로 구성되어 있다."
      ]
    },
    {
      "cell_type": "code",
      "metadata": {
        "id": "DaQLDE-_5AiX",
        "colab_type": "code",
        "outputId": "e69b7fd2-5d4c-4530-8461-f7d7409c3175",
        "colab": {
          "base_uri": "https://localhost:8080/",
          "height": 976
        }
      },
      "source": [
        "plot_model(model, to_file='mlp-mnist.png', show_shapes=True)"
      ],
      "execution_count": 0,
      "outputs": [
        {
          "output_type": "execute_result",
          "data": {
            "image/png": "[encoded data removed]",
            "text/plain": [
              "<IPython.core.display.Image object>"
            ]
          },
          "metadata": {
            "tags": []
          },
          "execution_count": 13
        }
      ]
    },
    {
      "cell_type": "markdown",
      "metadata": {
        "id": "9KXU4kG1hUAV",
        "colab_type": "text"
      },
      "source": [
        "### **합성곱 신경망(CNN)**\n",
        "\n",
        "- CNN 모델<br>\n",
        "  MLP 모델과는 달리 MNIST 이미지에 대해 입력 벡터 배신 입력 텐서를 갖는다. 따라서 훈련/데이터 이미지 크기를 재조정해야한다.\n",
        "![대체 텍스트](https://github.com/syeong1218/keras-fig/blob/master/1.4.1.PNG?raw=true)\n",
        "\n",
        "\n"
      ]
    },
    {
      "cell_type": "markdown",
      "metadata": {
        "id": "1qKQhzdgjmdt",
        "colab_type": "text"
      },
      "source": [
        "#### **CNN모델을 이용해 케라스에서 MNIST 숫자 분류 모델 구현 코드**"
      ]
    },
    {
      "cell_type": "code",
      "metadata": {
        "id": "Ho7apepPf_Ac",
        "colab_type": "code",
        "colab": {}
      },
      "source": [
        "import numpy as np\n",
        "from tensorflow.keras.models import Sequential\n",
        "from tensorflow.keras.layers import Activation, Dense, Dropout\n",
        "from tensorflow.keras.layers import Conv2D, MaxPooling2D, Flatten\n",
        "from tensorflow.keras.utils import to_categorical, plot_model\n",
        "from tensorflow.keras.datasets import mnist\n",
        "\n",
        "# MNIST 데이터세트 로딩\n",
        "(x_train, y_train), (x_test, y_test) = mnist.load_data()\n",
        "\n",
        "# 레이블 개수 계산\n",
        "num_labels = len(np.unique(y_train))\n",
        "\n",
        "# 원-핫 벡터로 변환\n",
        "y_train = to_categorical(y_train)\n",
        "y_test = to_categorical(y_test)\n",
        "\n",
        "# 입력 이미지 차원\n",
        "image_size = x_train.shape[1]\n",
        "# 크기 재조정 및 정규화\n",
        "x_train = np.reshape(x_train,[-1, image_size, image_size, 1])\n",
        "x_test = np.reshape(x_test,[-1, image_size, image_size, 1])\n",
        "x_train = x_train.astype('float32') / 255\n",
        "x_test = x_test.astype('float32') / 255\n",
        "\n",
        "# 신경망 매개변수\n",
        "# 이미지는 그대로(정사각형 회색조) 처리됨\n",
        "input_shape = (image_size, image_size, 1)\n",
        "batch_size = 128\n",
        "kernel_size = 3\n",
        "pool_size = 2\n",
        "filters = 64\n",
        "dropout = 0.2\n",
        "\n",
        "# 모델은 CNN-ReLU-MaxPooling\n",
        "model = Sequential()\n",
        "model.add(Conv2D(filters=filters,\n",
        "                 kernel_size=kernel_size,\n",
        "                 activation='relu',\n",
        "                 input_shape=input_shape))\n",
        "model.add(MaxPooling2D(pool_size))\n",
        "model.add(Conv2D(filters=filters,\n",
        "                 kernel_size=kernel_size,\n",
        "                 activation='relu'))\n",
        "model.add(MaxPooling2D(pool_size))\n",
        "model.add(Conv2D(filters=filters,\n",
        "                 kernel_size=kernel_size,\n",
        "                 activation='relu'))\n",
        "model.add(Flatten())\n",
        "# 정규화로 드롭아웃 추가\n",
        "model.add(Dropout(dropout))\n",
        "# 출력 계층은 10개 요소로 구성괸 원-핫 벡터\n",
        "model.add(Dense(num_labels))\n",
        "model.add(Activation('softmax'))\n",
        "\n",
        "model.summary()\n",
        "plot_model(model, to_file='cnn-mnist.png', show_shapes=True)\n",
        "\n",
        "# 원-핫 벡터를 위한 손실 함수\n",
        "# adam 최적화 사용\n",
        "# 분류 작업의 지표로 정확도 사용\n",
        "model.compile(loss='categorical_crossentropy',\n",
        "              optimizer='adam',\n",
        "              metrics=['accuracy'])\n",
        "\n",
        "# 신경망 훈련\n",
        "model.fit(x_train, y_train, epochs=10, batch_size=batch_size)\n",
        "\n",
        "loss, acc = model.evaluate(x_test, y_test, batch_size=batch_size)\n",
        "print(\"\\nTest accuracy: %.1f%%\" % (100.0 * acc))"
      ],
      "execution_count": 0,
      "outputs": []
    },
    {
      "cell_type": "markdown",
      "metadata": {
        "id": "q8VZCrKHk8ue",
        "colab_type": "text"
      },
      "source": [
        "코드를 하나하나 분석해보면\n",
        "\n"
      ]
    },
    {
      "cell_type": "code",
      "metadata": {
        "id": "wbRSp8dclGoo",
        "colab_type": "code",
        "colab": {}
      },
      "source": [
        "import numpy as np\n",
        "from tensorflow.keras.models import Sequential\n",
        "from tensorflow.keras.layers import Activation, Dense, Dropout\n",
        "from tensorflow.keras.layers import Conv2D, MaxPooling2D, Flatten\n",
        "from tensorflow.keras.utils import to_categorical, plot_model\n",
        "from tensorflow.keras.datasets import mnist\n",
        "\n",
        "# MNIST 데이터세트 로딩\n",
        "(x_train, y_train), (x_test, y_test) = mnist.load_data()\n",
        "\n",
        "# 레이블 개수 계산\n",
        "num_labels = len(np.unique(y_train))\n",
        "\n",
        "# 원-핫 벡터로 변환\n",
        "y_train = to_categorical(y_train)\n",
        "y_test = to_categorical(y_test)"
      ],
      "execution_count": 0,
      "outputs": []
    },
    {
      "cell_type": "markdown",
      "metadata": {
        "id": "KJp_YUk2lHkw",
        "colab_type": "text"
      },
      "source": [
        "위 코드는 MLP모델과 같다."
      ]
    },
    {
      "cell_type": "code",
      "metadata": {
        "id": "c5pVhzjplUfs",
        "colab_type": "code",
        "colab": {}
      },
      "source": [
        "# 입력 이미지 차원\n",
        "image_size = x_train.shape[1]\n",
        "# 크기 재조정 및 정규화\n",
        "x_train = np.reshape(x_train,[-1, image_size, image_size, 1])\n",
        "x_test = np.reshape(x_test,[-1, image_size, image_size, 1])\n",
        "x_train = x_train.astype('float32') / 255\n",
        "x_test = x_test.astype('float32') / 255"
      ],
      "execution_count": 0,
      "outputs": []
    },
    {
      "cell_type": "code",
      "metadata": {
        "id": "bTJEs5MflYx5",
        "colab_type": "code",
        "colab": {}
      },
      "source": [
        "# 신경망 매개변수\n",
        "# 이미지는 그대로(정사각형 회색조) 처리됨\n",
        "input_shape = (image_size, image_size, 1)\n",
        "batch_size = 128\n",
        "kernel_size = 3\n",
        "pool_size = 2\n",
        "filters = 64\n",
        "dropout = 0.2"
      ],
      "execution_count": 0,
      "outputs": []
    },
    {
      "cell_type": "markdown",
      "metadata": {
        "id": "PUYBW-lRpXQt",
        "colab_type": "text"
      },
      "source": [
        "입력 이미지를 텐서인 (image_size, image_size, 1)로 재조정한다."
      ]
    },
    {
      "cell_type": "code",
      "metadata": {
        "id": "6utRfzR_lsKi",
        "colab_type": "code",
        "colab": {}
      },
      "source": [
        "# 모델은 CNN-ReLU-MaxPooling\n",
        "model = Sequential()\n",
        "model.add(Conv2D(filters=filters,\n",
        "                 kernel_size=kernel_size,\n",
        "                 activation='relu',\n",
        "                 input_shape=input_shape))\n",
        "model.add(MaxPooling2D(pool_size))\n",
        "model.add(Conv2D(filters=filters,\n",
        "                 kernel_size=kernel_size,\n",
        "                 activation='relu'))\n",
        "model.add(MaxPooling2D(pool_size))\n",
        "model.add(Conv2D(filters=filters,\n",
        "                 kernel_size=kernel_size,\n",
        "                 activation='relu'))\n",
        "model.add(Flatten())\n",
        "# 정규화로 드롭아웃 추가\n",
        "model.add(Dropout(dropout))\n",
        "# 출력 계층은 10개 요소로 구성괸 원-핫 벡터\n",
        "model.add(Dense(num_labels))\n",
        "model.add(Activation('softmax'))"
      ],
      "execution_count": 0,
      "outputs": []
    },
    {
      "cell_type": "markdown",
      "metadata": {
        "id": "GwyGSVBVqIJT",
        "colab_type": "text"
      },
      "source": [
        "> 합성곱\n",
        "\n",
        "Conv2D 계층을 사용한다. relu 활성화 함수는 이미 Conv2D의 인수로 포함되어 있어 따로 입력안해도 된다.\n",
        "- 커널<br> 전체 이미지를 움직이는 직사각형 패치라고 할 수 있다. 커널은 이미지 경계를 넘어갈 수 없다.\n",
        "![대체 텍스트](https://github.com/syeong1218/keras-fig/blob/master/1.4.2.PNG?raw=true)\n",
        "- 합성곱<br>  입력 이미지를 커널을 사용해 다른 행렬의 형태로 변형시키는 것이다. 이렇게 변형된 이미지를 특징 맵이라고 한다. 특징 맵은 다음 계층의 또 다른 특징 맵으로 변환된다. Conv2D마다 생성된 특징 맵의 개수는 filters 인수에 의해 제어된다.\n",
        "![대체 텍스트](https://github.com/syeong1218/keras-fig/blob/master/1.4.3.PNG?raw=true) <br> 위 그림은 $5\\times 5$ 입력 특징 맵에 $3\\times 3$ 커널이 적용된 것을 보여준다. 특징 맵 요소 중 하나의 값에 해당하는 부분을 음영처리했는데, 결과로 얻은 특징 맵을 보면 원래 입력 이미지보다 작다는 것을 알 수 있다. 그 이유는 합성곱이 유효한 요소에 대해서만 수행되기 때문이다. \n",
        "\n",
        "> 폴링 연산\n",
        "\n",
        "MaxPooling2D 계층은 각 특징 맵을 압축한다. 따라서 커널의 적용 범위가 늘어난다. pool_size$\\times $pool_size 크기의 패치가 모두 픽셀 하나로 축소된다. 그 값은 패치 내의 최대 픽셀값과 같다. MaxPooling2D의 출력은 특징 맵의 스택이다. Flatten 계층은 특징 맵 스택을 MLP 모델 출력 계층과 유사한 벡터 형식으로 변환한다.\n",
        "![대체 텍스트](https://github.com/syeong1218/keras-fig/blob/master/1.4.4.PNG?raw=true)\n"
      ]
    },
    {
      "cell_type": "code",
      "metadata": {
        "id": "tuUjMtsLltGS",
        "colab_type": "code",
        "outputId": "932fd5ca-3587-4e5d-e77e-9eaf0d8897b6",
        "colab": {
          "base_uri": "https://localhost:8080/",
          "height": 428
        }
      },
      "source": [
        "# 원-핫 벡터를 위한 손실 함수\n",
        "# adam 최적화 사용\n",
        "# 분류 작업의 지표로 정확도 사용\n",
        "model.compile(loss='categorical_crossentropy',\n",
        "              optimizer='adam',\n",
        "              metrics=['accuracy'])\n",
        "\n",
        "# 신경망 훈련\n",
        "model.fit(x_train, y_train, epochs=10, batch_size=batch_size)"
      ],
      "execution_count": 0,
      "outputs": [
        {
          "output_type": "stream",
          "text": [
            "Train on 60000 samples\n",
            "Epoch 1/10\n",
            "60000/60000 [==============================] - 3s 46us/sample - loss: 0.0077 - acc: 0.9973\n",
            "Epoch 2/10\n",
            "60000/60000 [==============================] - 3s 45us/sample - loss: 0.0050 - acc: 0.9981\n",
            "Epoch 3/10\n",
            "60000/60000 [==============================] - 3s 44us/sample - loss: 0.0052 - acc: 0.9983\n",
            "Epoch 4/10\n",
            "60000/60000 [==============================] - 3s 45us/sample - loss: 0.0052 - acc: 0.9981\n",
            "Epoch 5/10\n",
            "60000/60000 [==============================] - 3s 44us/sample - loss: 0.0054 - acc: 0.9980\n",
            "Epoch 6/10\n",
            "60000/60000 [==============================] - 3s 45us/sample - loss: 0.0050 - acc: 0.9982\n",
            "Epoch 7/10\n",
            "60000/60000 [==============================] - 3s 45us/sample - loss: 0.0049 - acc: 0.9984\n",
            "Epoch 8/10\n",
            "60000/60000 [==============================] - 3s 45us/sample - loss: 0.0043 - acc: 0.9986\n",
            "Epoch 9/10\n",
            "60000/60000 [==============================] - 3s 45us/sample - loss: 0.0041 - acc: 0.9985\n",
            "Epoch 10/10\n",
            "60000/60000 [==============================] - 3s 45us/sample - loss: 0.0043 - acc: 0.9986\n"
          ],
          "name": "stdout"
        },
        {
          "output_type": "execute_result",
          "data": {
            "text/plain": [
              "<tensorflow.python.keras.callbacks.History at 0x7f69e01f5518>"
            ]
          },
          "metadata": {
            "tags": []
          },
          "execution_count": 14
        }
      ]
    },
    {
      "cell_type": "code",
      "metadata": {
        "id": "y9NgIBZtl8i-",
        "colab_type": "code",
        "outputId": "6281fcaf-ec66-4137-f444-88953ec5eebd",
        "colab": {
          "base_uri": "https://localhost:8080/",
          "height": 73
        }
      },
      "source": [
        "# 일반화가 제대로 됐는지 확인하기 위해 테스트 데이터세트로 모델 검증\n",
        "loss, acc = model.evaluate(x_test, y_test, batch_size=batch_size)\n",
        "print(\"\\nTest accuracy: %.1f%%\" % (100.0 * acc))"
      ],
      "execution_count": 0,
      "outputs": [
        {
          "output_type": "stream",
          "text": [
            "10000/10000 [==============================] - 0s 27us/sample - loss: 0.0278 - acc: 0.9944\n",
            "\n",
            "Test accuracy: 99.4%\n"
          ],
          "name": "stdout"
        }
      ]
    },
    {
      "cell_type": "code",
      "metadata": {
        "id": "OCcJJwbhl5fY",
        "colab_type": "code",
        "outputId": "84fd60ce-22a0-4d53-d42a-a4ae12a6a459",
        "colab": {
          "base_uri": "https://localhost:8080/",
          "height": 503
        }
      },
      "source": [
        "model.summary()"
      ],
      "execution_count": 0,
      "outputs": [
        {
          "output_type": "stream",
          "text": [
            "Model: \"sequential\"\n",
            "_________________________________________________________________\n",
            "Layer (type)                 Output Shape              Param #   \n",
            "=================================================================\n",
            "conv2d (Conv2D)              (None, 26, 26, 64)        640       \n",
            "_________________________________________________________________\n",
            "max_pooling2d (MaxPooling2D) (None, 13, 13, 64)        0         \n",
            "_________________________________________________________________\n",
            "conv2d_1 (Conv2D)            (None, 11, 11, 64)        36928     \n",
            "_________________________________________________________________\n",
            "max_pooling2d_1 (MaxPooling2 (None, 5, 5, 64)          0         \n",
            "_________________________________________________________________\n",
            "conv2d_2 (Conv2D)            (None, 3, 3, 64)          36928     \n",
            "_________________________________________________________________\n",
            "flatten (Flatten)            (None, 576)               0         \n",
            "_________________________________________________________________\n",
            "dropout (Dropout)            (None, 576)               0         \n",
            "_________________________________________________________________\n",
            "dense (Dense)                (None, 10)                5770      \n",
            "_________________________________________________________________\n",
            "activation (Activation)      (None, 10)                0         \n",
            "=================================================================\n",
            "Total params: 80,266\n",
            "Trainable params: 80,266\n",
            "Non-trainable params: 0\n",
            "_________________________________________________________________\n"
          ],
          "name": "stdout"
        }
      ]
    },
    {
      "cell_type": "code",
      "metadata": {
        "id": "tC5DjWoCmACF",
        "colab_type": "code",
        "outputId": "b9bf94e8-61b6-4539-9be9-3f452f68d0a2",
        "colab": {
          "base_uri": "https://localhost:8080/",
          "height": 1000
        }
      },
      "source": [
        "plot_model(model, to_file='cnn-mnist.png', show_shapes=True)"
      ],
      "execution_count": 0,
      "outputs": [
        {
          "output_type": "execute_result",
          "data": {
            "image/png": "[encoded data removed]",
            "text/plain": [
              "<IPython.core.display.Image object>"
            ]
          },
          "metadata": {
            "tags": []
          },
          "execution_count": 17
        }
      ]
    },
    {
      "cell_type": "markdown",
      "metadata": {
        "id": "krSbj4iF3fjZ",
        "colab_type": "text"
      },
      "source": [
        "CNN은 MLP보다 매개변수가 더 적어 효율적이며 정확도가 높다. 따라서 CNN은 순차적 데이터, 이미지, 동영상을 학습하기에 적합하다."
      ]
    },
    {
      "cell_type": "markdown",
      "metadata": {
        "id": "yufaZaaA3wsW",
        "colab_type": "text"
      },
      "source": [
        "### **순환 신경망(RNN)**\n",
        "\n",
        "- RNN<br> 자연어 처리에서 텍스트나 기기 장치의 센서 데이터스트림 같은 순차적 데이터의 표현을 학습하기에 적합한 신경망이다. \n",
        "![대체 텍스트](https://github.com/syeong1218/keras-fig/blob/master/1.5.1.PNG?raw=true)"
      ]
    },
    {
      "cell_type": "markdown",
      "metadata": {
        "id": "eoxdmA_S6-uL",
        "colab_type": "text"
      },
      "source": [
        "#### **RNN모델을 이용해 케라스에서 MNIST 숫자 분류 모델 구현 코드**"
      ]
    },
    {
      "cell_type": "code",
      "metadata": {
        "id": "4y5o_6XXmC9S",
        "colab_type": "code",
        "colab": {}
      },
      "source": [
        "import numpy as np\n",
        "from tensorflow.keras.models import Sequential\n",
        "from tensorflow.keras.layers import Dense, Activation, SimpleRNN\n",
        "from tensorflow.keras.utils import to_categorical, plot_model\n",
        "from tensorflow.keras.datasets import mnist\n",
        "\n",
        "# MNIST 데이터세트 로딩\n",
        "(x_train, y_train), (x_test, y_test) = mnist.load_data()\n",
        "\n",
        "# 레이블 개수 계산\n",
        "num_labels = len(np.unique(y_train))\n",
        "\n",
        "# 원-핫 벡터로 변환\n",
        "y_train = to_categorical(y_train)\n",
        "y_test = to_categorical(y_test)\n",
        "\n",
        "# 크기 재조정 및 정규화\n",
        "image_size = x_train.shape[1]\n",
        "x_train = np.reshape(x_train,[-1, image_size, image_size])\n",
        "x_test = np.reshape(x_test,[-1, image_size, image_size])\n",
        "x_train = x_train.astype('float32') / 255\n",
        "x_test = x_test.astype('float32') / 255\n",
        "\n",
        "# 신경망 매개변수\n",
        "input_shape = (image_size, image_size)\n",
        "batch_size = 128\n",
        "units = 256\n",
        "dropout = 0.2\n",
        "\n",
        "# 모델 : 256개 유닛으로 구성된 RNN\n",
        "model = Sequential()\n",
        "model.add(SimpleRNN(units=units,\n",
        "                    dropout=dropout,\n",
        "                    input_shape=input_shape))\n",
        "model.add(Dense(num_labels))\n",
        "model.add(Activation('softmax'))\n",
        "\n",
        "model.summary()\n",
        "plot_model(model, to_file='rnn-mnist.png', show_shapes=True)\n",
        "\n",
        "# 원-핫 벡터를 위한 손실 함수\n",
        "# SGD 최적화 사용\n",
        "# 분류 작업에 대한 지표로 정확도 사용\n",
        "model.compile(loss='categorical_crossentropy',\n",
        "              optimizer='sgd',\n",
        "              metrics=['accuracy'])\n",
        "# 신경망 훈련\n",
        "model.fit(x_train, y_train, epochs=20, batch_size=batch_size)\n",
        "\n",
        "loss, acc = model.evaluate(x_test, y_test, batch_size=batch_size)\n",
        "print(\"\\nTest accuracy: %.1f%%\" % (100.0 * acc))"
      ],
      "execution_count": 0,
      "outputs": []
    },
    {
      "cell_type": "markdown",
      "metadata": {
        "id": "NTrdBX3L5LfB",
        "colab_type": "text"
      },
      "source": [
        "코드 분석하면"
      ]
    },
    {
      "cell_type": "code",
      "metadata": {
        "id": "Xlf96Wjs5KZ3",
        "colab_type": "code",
        "colab": {}
      },
      "source": [
        "import numpy as np\n",
        "from tensorflow.keras.models import Sequential\n",
        "from tensorflow.keras.layers import Dense, Activation, SimpleRNN\n",
        "from tensorflow.keras.utils import to_categorical, plot_model\n",
        "from tensorflow.keras.datasets import mnist\n",
        "\n",
        "# MNIST 데이터세트 로딩\n",
        "(x_train, y_train), (x_test, y_test) = mnist.load_data()\n",
        "\n",
        "# 레이블 개수 계산\n",
        "num_labels = len(np.unique(y_train))\n",
        "\n",
        "# 원-핫 벡터로 변환\n",
        "y_train = to_categorical(y_train)\n",
        "y_test = to_categorical(y_test)\n",
        "\n",
        "# 크기 재조정 및 정규화\n",
        "image_size = x_train.shape[1]\n",
        "x_train = np.reshape(x_train,[-1, image_size, image_size])\n",
        "x_test = np.reshape(x_test,[-1, image_size, image_size])\n",
        "x_train = x_train.astype('float32') / 255\n",
        "x_test = x_test.astype('float32') / 255"
      ],
      "execution_count": 0,
      "outputs": []
    },
    {
      "cell_type": "code",
      "metadata": {
        "id": "9YTxVtmM5Zh-",
        "colab_type": "code",
        "colab": {}
      },
      "source": [
        "# 신경망 매개변수\n",
        "input_shape = (image_size, image_size)\n",
        "batch_size = 128\n",
        "units = 256\n",
        "dropout = 0.2"
      ],
      "execution_count": 0,
      "outputs": []
    },
    {
      "cell_type": "markdown",
      "metadata": {
        "id": "nfJq9Nod7xXA",
        "colab_type": "text"
      },
      "source": [
        "입력 이미지를 (image_size, image_size)인 벡터의 시퀀스로 처리한다.\n",
        "\n",
        "input_shape = (image_size, image_size)는 실제로 input_shape = (timesteps, image_dim)인 timesteps 길이의 차원벡터이다."
      ]
    },
    {
      "cell_type": "code",
      "metadata": {
        "id": "zsrDXILA5hjz",
        "colab_type": "code",
        "colab": {}
      },
      "source": [
        "# 모델 : 256개 유닛으로 구성된 RNN\n",
        "model = Sequential()\n",
        "model.add(SimpleRNN(units=units,\n",
        "                    dropout=dropout,\n",
        "                    input_shape=input_shape))\n",
        "model.add(Dense(num_labels))\n",
        "model.add(Activation('softmax'))"
      ],
      "execution_count": 0,
      "outputs": []
    },
    {
      "cell_type": "markdown",
      "metadata": {
        "id": "X4cb7ooW8l5T",
        "colab_type": "text"
      },
      "source": [
        "RNN 셀을 표현하기 위해 units=256으로 된 SimpleRNN 계층을 사용한다.\n",
        "\n",
        "RNN의 출력은 현재 입력뿐만 아니라 이전 출력이나 은닉 상태로 구성된 함수이다. \n",
        "\n",
        "- SimpleRNN과 RNN<br> SimpleRNN은 소프트맥스 계산 전에 $O_t=Vh_t+c$ 출력값이 없기 때문이다.\n",
        "![대체 텍스트](https://github.com/syeong1218/keras-fig/blob/master/1.5.2.PNG?raw=true)"
      ]
    },
    {
      "cell_type": "code",
      "metadata": {
        "id": "ZR8zOsfv5lgk",
        "colab_type": "code",
        "outputId": "5bb337e4-0b5d-4871-c344-e93ab874edc1",
        "colab": {
          "base_uri": "https://localhost:8080/",
          "height": 801
        }
      },
      "source": [
        "# 원-핫 벡터를 위한 손실 함수\n",
        "# SGD 최적화 사용\n",
        "# 분류 작업에 대한 지표로 정확도 사용\n",
        "model.compile(loss='categorical_crossentropy',\n",
        "              optimizer='sgd',\n",
        "              metrics=['accuracy'])\n",
        "# 신경망 훈련\n",
        "model.fit(x_train, y_train, epochs=20, batch_size=batch_size)"
      ],
      "execution_count": 0,
      "outputs": [
        {
          "output_type": "stream",
          "text": [
            "Train on 60000 samples\n",
            "Epoch 1/20\n",
            "60000/60000 [==============================] - 4s 68us/sample - loss: 0.0864 - acc: 0.9737\n",
            "Epoch 2/20\n",
            "60000/60000 [==============================] - 4s 69us/sample - loss: 0.0829 - acc: 0.9742\n",
            "Epoch 3/20\n",
            "60000/60000 [==============================] - 4s 72us/sample - loss: 0.0838 - acc: 0.9742\n",
            "Epoch 4/20\n",
            "60000/60000 [==============================] - 4s 66us/sample - loss: 0.0800 - acc: 0.9749\n",
            "Epoch 5/20\n",
            "60000/60000 [==============================] - 4s 67us/sample - loss: 0.0757 - acc: 0.9766\n",
            "Epoch 6/20\n",
            "60000/60000 [==============================] - 4s 67us/sample - loss: 0.0752 - acc: 0.9769\n",
            "Epoch 7/20\n",
            "60000/60000 [==============================] - 4s 68us/sample - loss: 0.0758 - acc: 0.9766\n",
            "Epoch 8/20\n",
            "60000/60000 [==============================] - 4s 66us/sample - loss: 0.0735 - acc: 0.9774\n",
            "Epoch 9/20\n",
            "60000/60000 [==============================] - 4s 67us/sample - loss: 0.0717 - acc: 0.9785\n",
            "Epoch 10/20\n",
            "60000/60000 [==============================] - 4s 68us/sample - loss: 0.0680 - acc: 0.9789\n",
            "Epoch 11/20\n",
            "60000/60000 [==============================] - 4s 68us/sample - loss: 0.0701 - acc: 0.9777\n",
            "Epoch 12/20\n",
            "60000/60000 [==============================] - 4s 67us/sample - loss: 0.0676 - acc: 0.9787\n",
            "Epoch 13/20\n",
            "60000/60000 [==============================] - 4s 66us/sample - loss: 0.0665 - acc: 0.9793\n",
            "Epoch 14/20\n",
            "60000/60000 [==============================] - 4s 66us/sample - loss: 0.0655 - acc: 0.9799\n",
            "Epoch 15/20\n",
            "60000/60000 [==============================] - 4s 66us/sample - loss: 0.0638 - acc: 0.9803\n",
            "Epoch 16/20\n",
            "60000/60000 [==============================] - 4s 67us/sample - loss: 0.0624 - acc: 0.9807\n",
            "Epoch 17/20\n",
            "60000/60000 [==============================] - 4s 68us/sample - loss: 0.0633 - acc: 0.9807\n",
            "Epoch 18/20\n",
            "60000/60000 [==============================] - 4s 68us/sample - loss: 0.0615 - acc: 0.9809\n",
            "Epoch 19/20\n",
            "60000/60000 [==============================] - 4s 66us/sample - loss: 0.0582 - acc: 0.9821\n",
            "Epoch 20/20\n",
            "60000/60000 [==============================] - 4s 65us/sample - loss: 0.0576 - acc: 0.9818\n"
          ],
          "name": "stdout"
        },
        {
          "output_type": "execute_result",
          "data": {
            "text/plain": [
              "<tensorflow.python.keras.callbacks.History at 0x7fd8b546a748>"
            ]
          },
          "metadata": {
            "tags": []
          },
          "execution_count": 12
        }
      ]
    },
    {
      "cell_type": "code",
      "metadata": {
        "id": "hZqVcmjz5oU9",
        "colab_type": "code",
        "outputId": "d10e9eaf-e998-477a-d121-3fadbf63efdc",
        "colab": {
          "base_uri": "https://localhost:8080/",
          "height": 73
        }
      },
      "source": [
        "# 일반화가 제대로 됐는지 확인하기 위해 테스트 데이터세트로 모델 검증\n",
        "loss, acc = model.evaluate(x_test, y_test, batch_size=batch_size)\n",
        "print(\"\\nTest accuracy: %.1f%%\" % (100.0 * acc))"
      ],
      "execution_count": 0,
      "outputs": [
        {
          "output_type": "stream",
          "text": [
            "10000/10000 [==============================] - 0s 33us/sample - loss: 0.0485 - acc: 0.9853\n",
            "\n",
            "Test accuracy: 98.5%\n"
          ],
          "name": "stdout"
        }
      ]
    },
    {
      "cell_type": "code",
      "metadata": {
        "id": "vxWaCAK05s64",
        "colab_type": "code",
        "outputId": "f637d874-25b2-4650-b4be-29c60d46d0f2",
        "colab": {
          "base_uri": "https://localhost:8080/",
          "height": 279
        }
      },
      "source": [
        "model.summary()"
      ],
      "execution_count": 0,
      "outputs": [
        {
          "output_type": "stream",
          "text": [
            "Model: \"sequential\"\n",
            "_________________________________________________________________\n",
            "Layer (type)                 Output Shape              Param #   \n",
            "=================================================================\n",
            "simple_rnn (SimpleRNN)       (None, 256)               72960     \n",
            "_________________________________________________________________\n",
            "dense (Dense)                (None, 10)                2570      \n",
            "_________________________________________________________________\n",
            "activation (Activation)      (None, 10)                0         \n",
            "=================================================================\n",
            "Total params: 75,530\n",
            "Trainable params: 75,530\n",
            "Non-trainable params: 0\n",
            "_________________________________________________________________\n"
          ],
          "name": "stdout"
        }
      ]
    },
    {
      "cell_type": "code",
      "metadata": {
        "id": "ITiO8YQ45xRn",
        "colab_type": "code",
        "outputId": "5041a036-59a1-4d2a-e6d7-0a6a8990873e",
        "colab": {
          "base_uri": "https://localhost:8080/",
          "height": 422
        }
      },
      "source": [
        "plot_model(model, to_file='rnn-mnist.png', show_shapes=True)"
      ],
      "execution_count": 0,
      "outputs": [
        {
          "output_type": "execute_result",
          "data": {
            "image/png": "[encoded data removed]",
            "text/plain": [
              "<IPython.core.display.Image object>"
            ]
          },
          "metadata": {
            "tags": []
          },
          "execution_count": 9
        }
      ]
    },
    {
      "cell_type": "markdown",
      "metadata": {
        "id": "kkdNNgb2-Nsp",
        "colab_type": "text"
      },
      "source": [
        "> 장단기 메모리(LSTM) 신경망\n",
        "\n",
        "장기 종속성 문제를 해결하거나 현재 출력과 관련된 과거 정보를 기억한다.\n",
        "![대체 텍스트](https://github.com/syeong1218/keras-fig/blob/master/1.5.4.PNG?raw=true)\n",
        "<br>LSTM은 현재 입력과 과거 출력, 혹은 은닉 상태만 사용하는 것이 아니라 하나의 셀에서 다른 셀로 정보를 옮기는 셀 상태인 $s_t$ 를 사용한다. 셀 상태 사이의 정보 흐름은 $f_t, i_T, q_t$에 의해 제어된다. \n",
        "\n",
        "\n",
        "> 게이트 순환 유닛(GRU)\n",
        "\n",
        "셀 상태와 은닉 상태를 결합해 LSTM을 단순화한다.\n",
        "\n",
        "> 양방향 RNN \n",
        "\n",
        "패러 함수를 사용함으로써 양방향 RNN으로 만들 수 있다. 양방향 RNN은 정보를 뒤로 흐르게 함으로써 미래 상태가 현재 상태와 과거 상태에도 영향을 미칠 수 있다. \n",
        "\n",
        "모든 RNN은 유닛 수를 증가시키거나 RNN 계층을 연결하면 용량이 증가한다. 용량을 과도하게 증가시키면 모델이 과적합될 위험이 있고, 그 결과 예측하는 동안 훈련 시간이 길어지고 성능이 느려진다."
      ]
    }
  ]
}