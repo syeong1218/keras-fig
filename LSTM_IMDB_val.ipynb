{
  "nbformat": 4,
  "nbformat_minor": 0,
  "metadata": {
    "colab": {
      "name": "LSTM_IMDB_val.ipynb",
      "provenance": [],
      "collapsed_sections": [],
      "authorship_tag": "ABX9TyPF14TptIy6OLFlrpQ1q4EB",
      "include_colab_link": true
    },
    "kernelspec": {
      "name": "python3",
      "display_name": "Python 3"
    },
    "accelerator": "GPU"
  },
  "cells": [
    {
      "cell_type": "markdown",
      "metadata": {
        "id": "view-in-github",
        "colab_type": "text"
      },
      "source": [
        "<a href=\"https://colab.research.google.com/github/syeong1218/keras-fig/blob/master/LSTM_IMDB_val.ipynb\" target=\"_parent\"><img src=\"https://colab.research.google.com/assets/colab-badge.svg\" alt=\"Open In Colab\"/></a>"
      ]
    },
    {
      "cell_type": "markdown",
      "metadata": {
        "id": "le0MMvrI2EAG",
        "colab_type": "text"
      },
      "source": [
        "# LSTM - IMDb "
      ]
    },
    {
      "cell_type": "code",
      "metadata": {
        "id": "RhywObLd04U_",
        "colab_type": "code",
        "outputId": "3fdbda6c-d947-401d-c0f0-fa34e48f3ca7",
        "colab": {
          "base_uri": "https://localhost:8080/",
          "height": 111
        }
      },
      "source": [
        "try:\n",
        "\n",
        "    %tensorflow_version 2.x  # %tensorflow_version only exists in Colab\n",
        "\n",
        "except Exception:\n",
        "\n",
        "    pass"
      ],
      "execution_count": 0,
      "outputs": [
        {
          "output_type": "stream",
          "text": [
            "`%tensorflow_version` only switches the major version: `1.x` or `2.x`.\n",
            "You set: `2.x  # %tensorflow_version only exists in Colab`. This will be interpreted as: `2.x`.\n",
            "\n",
            "\n",
            "TensorFlow 2.x selected.\n"
          ],
          "name": "stdout"
        }
      ]
    },
    {
      "cell_type": "code",
      "metadata": {
        "id": "1iqZ6BD_0-aY",
        "colab_type": "code",
        "colab": {}
      },
      "source": [
        "from __future__ import print_function\n",
        "from tensorflow.keras.datasets import imdb\n",
        "from tensorflow.keras.models import Sequential\n",
        "from tensorflow.keras.layers import Dense, LSTM, Embedding\n",
        "from tensorflow.keras.preprocessing.sequence import pad_sequences"
      ],
      "execution_count": 0,
      "outputs": []
    },
    {
      "cell_type": "code",
      "metadata": {
        "id": "o_gAossq1AmN",
        "colab_type": "code",
        "outputId": "fac346f6-cd58-4fca-a369-3bedd4874a45",
        "colab": {
          "base_uri": "https://localhost:8080/",
          "height": 55
        }
      },
      "source": [
        "#IMDB데이터는 룬련 데이터와 테스트 데이터를 50:50비율로 제공하기 때문에 test_split를 사용할 필요가 없다.\n",
        "(X_train, y_train), (X_test, y_test) = imdb.load_data(num_words=46159)"
      ],
      "execution_count": 0,
      "outputs": [
        {
          "output_type": "stream",
          "text": [
            "Downloading data from https://storage.googleapis.com/tensorflow/tf-keras-datasets/imdb.npz\n",
            "17465344/17464789 [==============================] - 0s 0us/step\n"
          ],
          "name": "stdout"
        }
      ]
    },
    {
      "cell_type": "code",
      "metadata": {
        "id": "EniLr6a8V4-1",
        "colab_type": "code",
        "colab": {}
      },
      "source": [
        "# 훈련셋과 검증셋 분리\n",
        "X_val = X_train[20000:]\n",
        "y_val = y_train[20000:]\n",
        "X_train = X_train[:20000]\n",
        "y_train = y_train[:20000]"
      ],
      "execution_count": 0,
      "outputs": []
    },
    {
      "cell_type": "code",
      "metadata": {
        "id": "xT9WHsO1mfuV",
        "colab_type": "code",
        "outputId": "928cacda-ab45-41b3-c8b5-01678914ca4b",
        "colab": {
          "base_uri": "https://localhost:8080/",
          "height": 73
        }
      },
      "source": [
        "print('훈련용 리뷰 개수 : {}'.format(len(X_train)))\n",
        "print('검증용 리뷰 개수 : {}'.format(len(X_val)))\n",
        "print('테스트용 리뷰 개수 : {}'.format(len(X_test)))"
      ],
      "execution_count": 0,
      "outputs": [
        {
          "output_type": "stream",
          "text": [
            "훈련용 리뷰 개수 : 20000\n",
            "검증용 리뷰 개수 : 5000\n",
            "테스트용 리뷰 개수 : 25000\n"
          ],
          "name": "stdout"
        }
      ]
    },
    {
      "cell_type": "code",
      "metadata": {
        "id": "94z_IwNC1Neb",
        "colab_type": "code",
        "colab": {}
      },
      "source": [
        "#max_len의 문장 길이로 pad_sequences()을 이용하여 전처리한다.\n",
        "max_len=500\n",
        "X_train = pad_sequences(X_train, maxlen=max_len)\n",
        "X_val = pad_sequences(X_val, maxlen=max_len)\n",
        "X_test = pad_sequences(X_test, maxlen=max_len)"
      ],
      "execution_count": 0,
      "outputs": []
    },
    {
      "cell_type": "code",
      "metadata": {
        "id": "0nhv6Hac1WBr",
        "colab_type": "code",
        "colab": {}
      },
      "source": [
        "#모델 구축 : Embedding - LSTM - sigmoid\n",
        "model = Sequential()\n",
        "model.add(Embedding(46159, 128)) #(단어 집합의 크기, 임베딩 후 벡터 크기)\n",
        "model.add(LSTM(256, dropout=0.5))\n",
        "model.add(Dense(1, activation='sigmoid')) #출력층"
      ],
      "execution_count": 0,
      "outputs": []
    },
    {
      "cell_type": "code",
      "metadata": {
        "id": "uS4_mhI31XwV",
        "colab_type": "code",
        "outputId": "d5efbe69-d193-49f9-825f-0cd9b2583a35",
        "colab": {
          "base_uri": "https://localhost:8080/",
          "height": 801
        }
      },
      "source": [
        "#최적화\n",
        "model.compile(loss='binary_crossentropy', optimizer='adam', metrics=['accuracy'])\n",
        "\n",
        "#모델 훈련\n",
        "model.fit(X_train, y_train, validation_data=(X_val, y_val), epochs=20, batch_size=64)\n",
        "\n",
        "# 테스트 데이터에 대해서 정확도 평가\n",
        "scores = model.evaluate(X_test, y_test, verbose=0) \n",
        "print(\"정확도: %.2f%%\" % (scores[1]*100))"
      ],
      "execution_count": 0,
      "outputs": [
        {
          "output_type": "stream",
          "text": [
            "Train on 20000 samples, validate on 5000 samples\n",
            "Epoch 1/20\n",
            "20000/20000 [==============================] - 43s 2ms/sample - loss: 0.5241 - accuracy: 0.7295 - val_loss: 0.3679 - val_accuracy: 0.8394\n",
            "Epoch 2/20\n",
            "20000/20000 [==============================] - 34s 2ms/sample - loss: 0.2769 - accuracy: 0.8919 - val_loss: 0.3163 - val_accuracy: 0.8668\n",
            "Epoch 3/20\n",
            "20000/20000 [==============================] - 33s 2ms/sample - loss: 0.1735 - accuracy: 0.9372 - val_loss: 0.4338 - val_accuracy: 0.7972\n",
            "Epoch 4/20\n",
            "20000/20000 [==============================] - 33s 2ms/sample - loss: 0.1570 - accuracy: 0.9430 - val_loss: 0.3451 - val_accuracy: 0.8694\n",
            "Epoch 5/20\n",
            "20000/20000 [==============================] - 33s 2ms/sample - loss: 0.0813 - accuracy: 0.9718 - val_loss: 0.4618 - val_accuracy: 0.8762\n",
            "Epoch 6/20\n",
            "20000/20000 [==============================] - 34s 2ms/sample - loss: 0.0621 - accuracy: 0.9778 - val_loss: 0.4449 - val_accuracy: 0.8676\n",
            "Epoch 7/20\n",
            "20000/20000 [==============================] - 32s 2ms/sample - loss: 0.0286 - accuracy: 0.9908 - val_loss: 0.5396 - val_accuracy: 0.8670\n",
            "Epoch 8/20\n",
            "20000/20000 [==============================] - 33s 2ms/sample - loss: 0.0402 - accuracy: 0.9869 - val_loss: 0.5174 - val_accuracy: 0.8528\n",
            "Epoch 9/20\n",
            "20000/20000 [==============================] - 32s 2ms/sample - loss: 0.0510 - accuracy: 0.9827 - val_loss: 0.5359 - val_accuracy: 0.8574\n",
            "Epoch 10/20\n",
            "20000/20000 [==============================] - 33s 2ms/sample - loss: 0.0299 - accuracy: 0.9905 - val_loss: 0.5868 - val_accuracy: 0.8534\n",
            "Epoch 11/20\n",
            "20000/20000 [==============================] - 33s 2ms/sample - loss: 0.0283 - accuracy: 0.9912 - val_loss: 0.6449 - val_accuracy: 0.8536\n",
            "Epoch 12/20\n",
            "20000/20000 [==============================] - 33s 2ms/sample - loss: 0.0163 - accuracy: 0.9944 - val_loss: 0.6978 - val_accuracy: 0.8670\n",
            "Epoch 13/20\n",
            "20000/20000 [==============================] - 33s 2ms/sample - loss: 0.0144 - accuracy: 0.9954 - val_loss: 0.6565 - val_accuracy: 0.8298\n",
            "Epoch 14/20\n",
            "20000/20000 [==============================] - 33s 2ms/sample - loss: 0.0128 - accuracy: 0.9958 - val_loss: 0.6836 - val_accuracy: 0.8670\n",
            "Epoch 15/20\n",
            "20000/20000 [==============================] - 33s 2ms/sample - loss: 0.0056 - accuracy: 0.9984 - val_loss: 0.7686 - val_accuracy: 0.8610\n",
            "Epoch 16/20\n",
            "20000/20000 [==============================] - 32s 2ms/sample - loss: 0.0097 - accuracy: 0.9968 - val_loss: 0.7078 - val_accuracy: 0.8522\n",
            "Epoch 17/20\n",
            "20000/20000 [==============================] - 32s 2ms/sample - loss: 0.0121 - accuracy: 0.9964 - val_loss: 0.7238 - val_accuracy: 0.8672\n",
            "Epoch 18/20\n",
            "20000/20000 [==============================] - 33s 2ms/sample - loss: 0.0208 - accuracy: 0.9930 - val_loss: 0.6322 - val_accuracy: 0.8508\n",
            "Epoch 19/20\n",
            "20000/20000 [==============================] - 33s 2ms/sample - loss: 0.0122 - accuracy: 0.9956 - val_loss: 0.8358 - val_accuracy: 0.8492\n",
            "Epoch 20/20\n",
            "20000/20000 [==============================] - 33s 2ms/sample - loss: 0.0122 - accuracy: 0.9960 - val_loss: 0.7854 - val_accuracy: 0.8666\n",
            "정확도: 84.32%\n"
          ],
          "name": "stdout"
        }
      ]
    },
    {
      "cell_type": "code",
      "metadata": {
        "id": "pdosOWNd1Z-8",
        "colab_type": "code",
        "outputId": "ae8c51a3-2330-4666-8842-ea3245f30021",
        "colab": {
          "base_uri": "https://localhost:8080/",
          "height": 279
        }
      },
      "source": [
        "model.summary()"
      ],
      "execution_count": 0,
      "outputs": [
        {
          "output_type": "stream",
          "text": [
            "Model: \"sequential\"\n",
            "_________________________________________________________________\n",
            "Layer (type)                 Output Shape              Param #   \n",
            "=================================================================\n",
            "embedding (Embedding)        (None, None, 128)         5908352   \n",
            "_________________________________________________________________\n",
            "lstm (LSTM)                  (None, 256)               394240    \n",
            "_________________________________________________________________\n",
            "dense (Dense)                (None, 1)                 257       \n",
            "=================================================================\n",
            "Total params: 6,302,849\n",
            "Trainable params: 6,302,849\n",
            "Non-trainable params: 0\n",
            "_________________________________________________________________\n"
          ],
          "name": "stdout"
        }
      ]
    },
    {
      "cell_type": "code",
      "metadata": {
        "id": "NFuYasdtq6Os",
        "colab_type": "code",
        "colab": {}
      },
      "source": [
        ""
      ],
      "execution_count": 0,
      "outputs": []
    }
  ]
}