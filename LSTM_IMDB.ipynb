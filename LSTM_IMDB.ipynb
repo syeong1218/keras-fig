{
  "nbformat": 4,
  "nbformat_minor": 0,
  "metadata": {
    "colab": {
      "name": "LSTM_IMDB.ipynb",
      "provenance": [],
      "authorship_tag": "ABX9TyNvhaOZuy4BInUDupZrN2wC",
      "include_colab_link": true
    },
    "kernelspec": {
      "name": "python3",
      "display_name": "Python 3"
    },
    "accelerator": "GPU"
  },
  "cells": [
    {
      "cell_type": "markdown",
      "metadata": {
        "id": "view-in-github",
        "colab_type": "text"
      },
      "source": [
        "<a href=\"https://colab.research.google.com/github/syeong1218/keras-fig/blob/master/LSTM_IMDB.ipynb\" target=\"_parent\"><img src=\"https://colab.research.google.com/assets/colab-badge.svg\" alt=\"Open In Colab\"/></a>"
      ]
    },
    {
      "cell_type": "markdown",
      "metadata": {
        "id": "le0MMvrI2EAG",
        "colab_type": "text"
      },
      "source": [
        "# LSTM - IMDb "
      ]
    },
    {
      "cell_type": "code",
      "metadata": {
        "id": "RhywObLd04U_",
        "colab_type": "code",
        "outputId": "61321c6f-68e1-40c0-8474-6aaa18a6cec1",
        "colab": {
          "base_uri": "https://localhost:8080/",
          "height": 111
        }
      },
      "source": [
        "try:\n",
        "\n",
        "    %tensorflow_version 2.x  # %tensorflow_version only exists in Colab\n",
        "\n",
        "except Exception:\n",
        "\n",
        "    pass"
      ],
      "execution_count": 1,
      "outputs": [
        {
          "output_type": "stream",
          "text": [
            "`%tensorflow_version` only switches the major version: `1.x` or `2.x`.\n",
            "You set: `2.x  # %tensorflow_version only exists in Colab`. This will be interpreted as: `2.x`.\n",
            "\n",
            "\n",
            "TensorFlow 2.x selected.\n"
          ],
          "name": "stdout"
        }
      ]
    },
    {
      "cell_type": "code",
      "metadata": {
        "id": "1iqZ6BD_0-aY",
        "colab_type": "code",
        "colab": {}
      },
      "source": [
        "from __future__ import print_function\n",
        "from tensorflow.keras.datasets import imdb\n",
        "from tensorflow.keras.models import Sequential\n",
        "from tensorflow.keras.layers import Dense, LSTM, Embedding\n",
        "from tensorflow.keras.preprocessing.sequence import pad_sequences"
      ],
      "execution_count": 0,
      "outputs": []
    },
    {
      "cell_type": "code",
      "metadata": {
        "id": "o_gAossq1AmN",
        "colab_type": "code",
        "colab": {}
      },
      "source": [
        "#IMDB데이터는 룬련 데이터와 테스트 데이터를 50:50비율로 제공하기 때문에 test_split를 사용할 필요가 없다.\n",
        "#빈도 순위가 5000이상인 단어만 불러옴.\n",
        "(X_train, y_train), (X_test, y_test) = imdb.load_data(num_words=46159)"
      ],
      "execution_count": 0,
      "outputs": []
    },
    {
      "cell_type": "code",
      "metadata": {
        "id": "xT9WHsO1mfuV",
        "colab_type": "code",
        "colab": {
          "base_uri": "https://localhost:8080/",
          "height": 55
        },
        "outputId": "095e42f1-87a7-4d03-c0ac-9a14aece785d"
      },
      "source": [
        "print('훈련용 리뷰 개수 : {}'.format(len(X_train)))\n",
        "print('테스트용 리뷰 개수 : {}'.format(len(X_test)))"
      ],
      "execution_count": 7,
      "outputs": [
        {
          "output_type": "stream",
          "text": [
            "훈련용 리뷰 개수 : 25000\n",
            "테스트용 리뷰 개수 : 25000\n"
          ],
          "name": "stdout"
        }
      ]
    },
    {
      "cell_type": "code",
      "metadata": {
        "id": "94z_IwNC1Neb",
        "colab_type": "code",
        "colab": {}
      },
      "source": [
        "#max_len의 문장 길이로 pad_sequences()을 이용하여 전처리한다.\n",
        "max_len=500\n",
        "X_train = pad_sequences(X_train, maxlen=max_len)\n",
        "X_test = pad_sequences(X_test, maxlen=max_len)"
      ],
      "execution_count": 0,
      "outputs": []
    },
    {
      "cell_type": "code",
      "metadata": {
        "id": "0nhv6Hac1WBr",
        "colab_type": "code",
        "colab": {}
      },
      "source": [
        "#모델 구축 : Embedding - LSTM - sigmoid\n",
        "model = Sequential()\n",
        "model.add(Embedding(46159, 128)) #(단어 집합의 크기, 임베딩 후 벡터 크기)\n",
        "model.add(LSTM(256, dropout=0.5))\n",
        "model.add(Dense(1, activation='sigmoid')) #출력층"
      ],
      "execution_count": 0,
      "outputs": []
    },
    {
      "cell_type": "code",
      "metadata": {
        "id": "uS4_mhI31XwV",
        "colab_type": "code",
        "outputId": "d4769a72-9369-4c96-93c4-693e7f086e68",
        "colab": {
          "base_uri": "https://localhost:8080/",
          "height": 801
        }
      },
      "source": [
        "#최적화\n",
        "model.compile(loss='binary_crossentropy', optimizer='adam', metrics=['accuracy'])\n",
        "\n",
        "#모델 훈련\n",
        "model.fit(X_train, y_train, validation_data=(X_test, y_test), epochs=20, batch_size=64)\n",
        "\n",
        "# 테스트 데이터에 대해서 정확도 평가\n",
        "scores = model.evaluate(X_test, y_test, verbose=0) \n",
        "print(\"정확도: %.2f%%\" % (scores[1]*100))"
      ],
      "execution_count": 13,
      "outputs": [
        {
          "output_type": "stream",
          "text": [
            "Train on 25000 samples, validate on 25000 samples\n",
            "Epoch 1/20\n",
            "25000/25000 [==============================] - 49s 2ms/sample - loss: 0.0678 - accuracy: 0.9775 - val_loss: 0.4828 - val_accuracy: 0.8596\n",
            "Epoch 2/20\n",
            "25000/25000 [==============================] - 47s 2ms/sample - loss: 0.0468 - accuracy: 0.9850 - val_loss: 0.5150 - val_accuracy: 0.8467\n",
            "Epoch 3/20\n",
            "25000/25000 [==============================] - 46s 2ms/sample - loss: 0.0314 - accuracy: 0.9900 - val_loss: 0.6042 - val_accuracy: 0.8534\n",
            "Epoch 4/20\n",
            "25000/25000 [==============================] - 46s 2ms/sample - loss: 0.0339 - accuracy: 0.9894 - val_loss: 0.6885 - val_accuracy: 0.8444\n",
            "Epoch 5/20\n",
            "25000/25000 [==============================] - 46s 2ms/sample - loss: 0.0362 - accuracy: 0.9884 - val_loss: 0.6017 - val_accuracy: 0.7602\n",
            "Epoch 6/20\n",
            "25000/25000 [==============================] - 45s 2ms/sample - loss: 0.0602 - accuracy: 0.9786 - val_loss: 0.6241 - val_accuracy: 0.8510\n",
            "Epoch 7/20\n",
            "25000/25000 [==============================] - 46s 2ms/sample - loss: 0.0123 - accuracy: 0.9962 - val_loss: 0.7462 - val_accuracy: 0.8492\n",
            "Epoch 8/20\n",
            "25000/25000 [==============================] - 46s 2ms/sample - loss: 0.0114 - accuracy: 0.9969 - val_loss: 0.7888 - val_accuracy: 0.8525\n",
            "Epoch 9/20\n",
            "25000/25000 [==============================] - 45s 2ms/sample - loss: 0.0095 - accuracy: 0.9972 - val_loss: 0.8717 - val_accuracy: 0.8526\n",
            "Epoch 10/20\n",
            "25000/25000 [==============================] - 45s 2ms/sample - loss: 0.0102 - accuracy: 0.9969 - val_loss: 0.8006 - val_accuracy: 0.8500\n",
            "Epoch 11/20\n",
            "25000/25000 [==============================] - 46s 2ms/sample - loss: 0.0162 - accuracy: 0.9953 - val_loss: 0.9140 - val_accuracy: 0.8432\n",
            "Epoch 12/20\n",
            "25000/25000 [==============================] - 46s 2ms/sample - loss: 0.0154 - accuracy: 0.9951 - val_loss: 0.6998 - val_accuracy: 0.8465\n",
            "Epoch 13/20\n",
            "25000/25000 [==============================] - 46s 2ms/sample - loss: 0.0096 - accuracy: 0.9971 - val_loss: 0.9118 - val_accuracy: 0.8444\n",
            "Epoch 14/20\n",
            "25000/25000 [==============================] - 45s 2ms/sample - loss: 0.0036 - accuracy: 0.9989 - val_loss: 0.9078 - val_accuracy: 0.8455\n",
            "Epoch 15/20\n",
            "25000/25000 [==============================] - 45s 2ms/sample - loss: 0.0046 - accuracy: 0.9985 - val_loss: 0.9128 - val_accuracy: 0.8336\n",
            "Epoch 16/20\n",
            "25000/25000 [==============================] - 45s 2ms/sample - loss: 0.0105 - accuracy: 0.9968 - val_loss: 0.6839 - val_accuracy: 0.8445\n",
            "Epoch 17/20\n",
            "25000/25000 [==============================] - 45s 2ms/sample - loss: 0.0042 - accuracy: 0.9987 - val_loss: 0.9484 - val_accuracy: 0.8467\n",
            "Epoch 18/20\n",
            "25000/25000 [==============================] - 45s 2ms/sample - loss: 0.0050 - accuracy: 0.9985 - val_loss: 0.8158 - val_accuracy: 0.8392\n",
            "Epoch 19/20\n",
            "25000/25000 [==============================] - 45s 2ms/sample - loss: 0.0190 - accuracy: 0.9937 - val_loss: 0.8362 - val_accuracy: 0.8447\n",
            "Epoch 20/20\n",
            "25000/25000 [==============================] - 45s 2ms/sample - loss: 0.0072 - accuracy: 0.9977 - val_loss: 0.8569 - val_accuracy: 0.8456\n",
            "정확도: 84.56%\n"
          ],
          "name": "stdout"
        }
      ]
    },
    {
      "cell_type": "code",
      "metadata": {
        "id": "pdosOWNd1Z-8",
        "colab_type": "code",
        "outputId": "7f2f75aa-5c63-45f8-ed1e-94d90e9dc473",
        "colab": {
          "base_uri": "https://localhost:8080/",
          "height": 279
        }
      },
      "source": [
        "model.summary()"
      ],
      "execution_count": 14,
      "outputs": [
        {
          "output_type": "stream",
          "text": [
            "Model: \"sequential_1\"\n",
            "_________________________________________________________________\n",
            "Layer (type)                 Output Shape              Param #   \n",
            "=================================================================\n",
            "embedding_1 (Embedding)      (None, None, 128)         5908352   \n",
            "_________________________________________________________________\n",
            "lstm_1 (LSTM)                (None, 256)               394240    \n",
            "_________________________________________________________________\n",
            "dense_1 (Dense)              (None, 1)                 257       \n",
            "=================================================================\n",
            "Total params: 6,302,849\n",
            "Trainable params: 6,302,849\n",
            "Non-trainable params: 0\n",
            "_________________________________________________________________\n"
          ],
          "name": "stdout"
        }
      ]
    },
    {
      "cell_type": "code",
      "metadata": {
        "id": "NFuYasdtq6Os",
        "colab_type": "code",
        "colab": {}
      },
      "source": [
        ""
      ],
      "execution_count": 0,
      "outputs": []
    }
  ]
}